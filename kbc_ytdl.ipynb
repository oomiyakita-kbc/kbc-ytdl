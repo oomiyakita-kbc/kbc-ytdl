{
  "nbformat": 4,
  "nbformat_minor": 0,
  "metadata": {
    "colab": {
      "provenance": [],
      "authorship_tag": "ABX9TyOG94wk0YhQ3G3nXDbeDXI4",
      "include_colab_link": true
    },
    "kernelspec": {
      "name": "python3",
      "display_name": "Python 3"
    },
    "language_info": {
      "name": "python"
    }
  },
  "cells": [
    {
      "cell_type": "markdown",
      "metadata": {
        "id": "view-in-github",
        "colab_type": "text"
      },
      "source": [
        "<a href=\"https://colab.research.google.com/github/oomiyakita-kbc/kbc-ytdl/blob/main/kbc_ytdl.ipynb\" target=\"_parent\"><img src=\"https://colab.research.google.com/assets/colab-badge.svg\" alt=\"Open In Colab\"/></a>"
      ]
    },
    {
      "cell_type": "code",
      "execution_count": null,
      "metadata": {
        "id": "cpFsD36-DjkN"
      },
      "outputs": [],
      "source": [
        "!pip install -U yt-dlp\n",
        "\n",
        "from google.colab import drive\n",
        "drive.mount('/content/drive')\n",
        "\n",
        "from google.oauth2 import service_account\n",
        "import googleapiclient.discovery\n",
        "\n",
        "credentials = service_account.Credentials.from_service_account_file('/content/drive/MyDrive/KBC大宮北高校放送部/14.youtube-downloader/youtube-downloader-420717-fdc577ac7f2c.json')\n",
        "\n",
        "service = googleapiclient.discovery.build('sheets', 'v4', credentials=credentials)\n",
        "\n",
        "spreadsheet_id = '1k-l4X4NAUZPb5QQbytocC0qGIiY6cpOKIKoG3d707lQ'"
      ]
    },
    {
      "cell_type": "code",
      "source": [
        "import yt_dlp\n",
        "\n",
        "range_ = 'ダウンロード!A2:A'\n",
        "result = service.spreadsheets().values().get(spreadsheetId=spreadsheet_id, range=range_).execute()\n",
        "values = result.get('values', [])\n",
        "\n",
        "failed_downloads = []\n",
        "\n",
        "for url in values:\n",
        "    ydl_opts = {\n",
        "        'format': 'bestaudio/best',\n",
        "        'postprocessors': [{\n",
        "            'key': 'FFmpegExtractAudio',\n",
        "            'preferredcodec': 'wav',\n",
        "            'preferredquality': '192'\n",
        "        }],\n",
        "        'prefer_ffmpeg': True,\n",
        "        'continue_on_error': True,\n",
        "        'outtmpl': '/content/drive/MyDrive/KBC大宮北高校放送部/14.youtube-downloader/01.downloaded_wav/%(title)s.%(ext)s',\n",
        "    }\n",
        "    try:\n",
        "        with yt_dlp.YoutubeDL(ydl_opts) as ydl:\n",
        "            ydl.download([url[0]])\n",
        "    except yt_dlp.DownloadError as e:\n",
        "        print(f\"ダウンロード失敗: {url[0]}: {e}\")\n",
        "        failed_downloads.append(url[0])\n",
        "\n",
        "if failed_downloads:\n",
        "    print(\"ダウンロード失敗一覧\")\n",
        "    for failed_title in failed_downloads:\n",
        "        print(failed_title)\n",
        "else:\n",
        "    print(\"完了\")\n"
      ],
      "metadata": {
        "id": "L0QrVH0fM-pO"
      },
      "execution_count": null,
      "outputs": []
    }
  ]
}